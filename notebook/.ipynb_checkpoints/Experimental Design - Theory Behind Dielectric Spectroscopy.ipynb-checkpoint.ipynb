{
 "metadata": {
  "name": "Experimental Design - Theory Behind Dielectric Spectroscopy.ipynb"
 },
 "nbformat": 3,
 "nbformat_minor": 0,
 "worksheets": [
  {
   "cells": [
    {
     "cell_type": "code",
     "collapsed": false,
     "input": [
      "2+2"
     ],
     "language": "python",
     "metadata": {},
     "outputs": [],
     "prompt_number": "*"
    },
    {
     "cell_type": "markdown",
     "metadata": {},
     "source": [
      "\n",
      "<style>\n",
      "    .center {text-align: center}\n",
      "</style>\n",
      "\n",
      "## Experimental Design - Theory Behind Dielectric Spectroscopy ##\n",
      "We use the technique of dielectric spectroscopy to determine the susceptibility critical exponent. Dielectric spectroscopy is an important tool in studying the molecular dynamics and relaxation characteristics in ferroelectric LC's. This measurement uses an alternating current and impedance analyzer to measure the crystals' polarization response in an electric field. This measurement is repeated over multiple temperatures to obtain a spectrum of the susceptibility, and the data is compared with the universality models. "
     ]
    },
    {
     "cell_type": "markdown",
     "metadata": {},
     "source": [
      "<div class=\"center\"><img src=\"figures/EmptyCapacitor.jpg\" width=30%><img src=\"figures/LCCapacitor.jpg\" width=30%></div>"
     ]
    },
    {
     "cell_type": "markdown",
     "metadata": {},
     "source": [
      "### Review of a Capacitor ###\n",
      "\n",
      "Before diving into the complex details of dielectric spectroscopy, we begin with a review of the physics of capacitors. Liquid crystal slides behave as a capacitor with dielectric material between the two plates. Recall, that the capacitor consists of two parallel conducting plates with a separation, $d$, between them. Each plate holds equal and opposite charge, creating an electric field between them.\n"
     ]
    },
    {
     "cell_type": "markdown",
     "metadata": {},
     "source": [
      "The ratio of the charge on each plate over the potential between them is known as the capacitance:\n",
      "    \n",
      "$$\tC = \\frac{Q}{V}.$$\n",
      "\n",
      "Assuming that the area, $A$, of the plates is much larger than the distance, $d$, between plates, the potential between the two plates is defined as the line integral of the electric field in the capacitor.\n",
      "\n",
      "$$\tV = \\oint\\limits_0^{d} E dz = \\int\\limits_0^{d} \\frac{\\rho}{\\epsilon_{0}} dz = \\frac{\\rho d}{\\epsilon_{0}} = \\frac{Qd}{\\epsilon_{0} A} $$\n",
      "\n",
      "where $\\rho$ is the free charge collected at the surface of the capacitor and $\\epsilon_{0}$ is the permittivity of free space.  Therefore, the total charge on the surface of the capacitor is\n",
      "\n",
      "$$ \\frac{Q}{A} = \\epsilon_{0}{E}. $$\n",
      "\n",
      "This new expression for the potential can be substituted into the equation for capacitance. Thus, the capacitance is directly related to the permittivity within the capacitor (in this case, this region is a vacuum), and indirectly related to the electric field:\n",
      "    \n",
      "$$ C_{0} = \\frac{\\epsilon_{0}A}{d} = \\frac{Q}{Ed} $$\n",
      "\n",
      "In this experiment, an alternating power source is used to observe the response of the capacitor when a potential is applied across the plates. As the potential difference between the glass slides switches direction, there is time delay before the current changes direction due to the charging at the capacitor's surface. Thus, there is lag between the applied voltage and current phase angles (shown in the figure below).\n",
      "\n",
      "\n",
      "\\begin{equation}\n",
      "\\begin{array}{rcccl}\n",
      "\t\\frac{v_{c}}{i_{c}} & =  & \\frac{V\\sin(\\omega t)}{\\omega V C \\cos(\\omega t)} & = & \\frac{\\sin(\\omega t)}{\\omega C \\sin(\\omega t + \\frac{\\pi}{2})}  \\\\ \\\\\n",
      "\tZ_{\\text{capacitor}} & = & \\frac{1}{\\omega C}e^{-j\\frac{\\pi}{2}} & = & \\frac{1}{j\\omega C}\n",
      "\\end{array}\n",
      "\\end{equation}\n",
      "\n",
      "The impedance tells us a lot about the capacitor. It is dependent upon the frequency of the applied oscillating field; therefore, we will observe how it changes when the sample is scanned over a range of frequencies. Notice that the impedance of the capacitor is imaginary. Our samples, however, are not empty capacitors. They are comprised of two glass microscope slides with liquid crystals between them. Thus, before we begin to describe the experiment, we must review the physics of a capacitor with dielectric material between the two plates. \n",
      "\n",
      "<div class=\"center\"><img src=\"files/figures/phaselag.png\" width=30%></div>\n"
     ]
    },
    {
     "cell_type": "markdown",
     "metadata": {},
     "source": [
      "### Capacitor with Dielectric Material ###\n",
      "\n",
      "A dielectric material is an electric insulator that can be polarized in the presence of an electric field. Liquid crystals are a type of dielectric material. Electric charges do not flow through the material as they do a conductor, rather they slightly shift in location by polarization of the molecules inside. In this case, positive charges shift in the direction of the external electric field, and negative charges away from the field. If the molecules of a material are weakly bounded, they will flip their axis of symmetry parallel to align with the direction of the field, a phenomenon known as polarization. An increase in polarization inside a capacitor will increase its surface charge. The polarization density, P, within a capacitor is an expression for the vector field describing the number of dipole moments between the two plates. \n",
      "\n",
      "\\begin{equation}\n",
      "    P = \\epsilon_{0} \\chi E\n",
      "\\end{equation}\n",
      "\n",
      "where $\\chi$ is the electric susceptibility of the dielectric material, or how easily the dipoles align with electric field. The susceptibility factor describes how sensitive the dielectric is to its environment. Temperature, density, and pressure can effect the material's response to the external electric field. Thus, this factor is the interest of dielectric spectroscopy. This is linear under small alternating electric fields, and is related the dielectric's permittivity:\n",
      "\n",
      "\\begin{equation}\n",
      "\t\\epsilon_{r} = \\chi + 1\n",
      "\\end{equation}\n",
      "\n",
      "The total charge on the surface of capacitor's plates is altered by this polarization density caused by the dielectric is \n",
      "\n",
      "\\begin{equation}\n",
      "\t\\frac{Q}{A} = \\epsilon_{0} E - P.\n",
      "\\end{equation}\n",
      "\n",
      "Plugging in the expression for the polarization density and solving for the electric field, we can see how the electric field is effected by the dielectric (through the susceptibility constant).\n",
      "\n",
      "\\begin{equation}\n",
      "\tE = \\frac{Q}{A\\epsilon_{0}(1+\\chi)} = \\frac{Q}{A\\epsilon_{0}\\epsilon_{r}}\n",
      "\\end{equation}\n",
      "\n",
      "The new capacitance of the slides is\n",
      "\n",
      "\\begin{equation}\n",
      "\tC = \\frac{Q}{dE}=\\frac{Q}{\\frac{Q}{A\\epsilon_{0}\\epsilon_{r}} d} = \\frac{A\\epsilon_{0}\\epsilon_{r}}{d}.\n",
      "\\end{equation}\n",
      "\n",
      "Notice, there is a new factor $\\epsilon_{r}$. Thus, by measuring the capacitance of our samples, we can study the polarization susceptibility of liquid crystals. We will exploit this fact through using alternating electric fields at different frequencies and observing the sample's response. After scanning across a wide range of frequencies, we expect to see a particular frequency at which the capacitance falls off (and conductance peaks). \n"
     ]
    },
    {
     "cell_type": "markdown",
     "metadata": {},
     "source": [
      "### The Theory Behind the Experiment ###\n",
      "<div class=\"center\"><img src=\"files/figures/ReVsIm1.jpg\" width=25%></div>\n",
      "\n",
      "\n",
      "In this experiment, we use a HP 4192A LF Impedance Analyzer to measure the dielectric properties of our liquid crystal samples. This machine applies an AC voltage across the sample and measures the magnitude of it's impedance. Recall from earlier, the applied voltage lags the current through the capacitor by some angle. This device measures this phase angle (as well as the magnitude), allowing us to determine the real and imaginary parts of the total impedance. The figure above shows the imaginary versus real plane. The real part is known as the resistance of the circuit, $R$, while the imaginary part is known as the reactance, $X$. The equation above describes the impedance of a capacitor as imaginary; therefore, an ideal liquid crystal sample would only displace the imaginary part. However, there is a small bit of resistance in the samples due to the electrode connections across the slides. Using the data output from the impedance analyzer, the magnitude and phase angle, we can determine the values for the reactance and resistance:\n",
      "    \n",
      "\\begin{equation}\n",
      "\tR = |Z|\\cos \\theta \\hspace{0.25cm} \\text{and} \\hspace{0.25cm} X = |Z|\\sin \\theta\n",
      "\\end{equation}\n",
      "\n",
      "These two expressions lead us to the complex impedance:\n",
      "    \n",
      "\\begin{equation}\n",
      "\tZ = R + iX.\n",
      "\\end{equation}\t\n",
      "\n",
      "If we take the reciprocal of this value, we get the admittance, $Y$, which can lead us straight to the capacitance of the sample. The complex admittance is\n",
      "\n",
      "\\begin{equation}\n",
      "\tY = G + i\\omega C\n",
      "\\end{equation}\n",
      "\n",
      "where $G$ is the conductance and $C$ is the capacitance of the circuit (The expression $\\omega C$ is known as the susceptance $B$). In this experiment, we measure the impedance and use it to calculate the values for $G$ and $C$. These expressions are simply:\n",
      "    \n",
      "\\begin{equation}\n",
      "\tG = \\frac{R}{R^{2}+X^{2}} \\hspace{0.25cm} \\text{and} \\hspace{0.25cm} C = \\frac{-X}{\\omega(R^{2}+X^{2})} \n",
      "\\end{equation}\n",
      "\n",
      "From these, we can derive the complex dielectric constant, $\\epsilon_{r}$, which also has real and imaginary parts ($\\epsilon_{r} = \\epsilon ' + i\\epsilon ''$). These expressions are\n",
      "                                                                                                                    \n",
      "\\begin{equation}\n",
      "\t\\epsilon ' = \\frac{C}{C_{0}} \\hspace{0.25cm} \\text{and} \\hspace{0.25cm} \\epsilon '' = \\frac{G}{\\omega C_{0}}.\n",
      "\\end{equation}\n",
      "\n",
      "This dielectric variable is the interest of this experiment. We will study the behavior of value at different frequencies and temperatures.\n",
      "\n",
      "The Debye relaxation model describes a dielectric's relaxation response to a population of ideal dipoles exposed to an alternating external field. When the liquid crystal is in the Goldstone mode, it behaves similar to bulk of ideal dipoles. Thus, we will use this model to monitor and probe our data for such modes. It will be used to fit out experimental data and determine the susceptibility of the crystals to align with the field. The general model is:\n",
      "\n",
      "\\begin{equation}\n",
      "\t\\epsilon_{r} = \\epsilon_{\\infty} + \\frac{\\Delta \\epsilon}{1+[i(f/f_{r})]^{\\beta}} + g(f)\n",
      "\\end{equation}\n",
      "\n",
      "where $\\epsilon_{\\infty}$ is the permittivity at the high frequency limit, $\\Delta \\epsilon$ is the relaxation strength, $f_{r}$ is the relaxation frequency, and $g(f)$ is the lower-frequency contribution.  This model contains complex values and can be plotted for both the real and the imaginary part against the frequency (known as a Debye plot).\n"
     ]
    },
    {
     "cell_type": "markdown",
     "metadata": {},
     "source": [
      "It is important to remember our goal in this experiment. We are seeking to measure the electrical susceptibility $\\chi_{e}$ of our liquid crystal samples. From this figure, we can see that the imaginary part of the dielectric variable shows a distinct \"peak\" known at the Goldstone mode. Recall that this plot is related to the conductance $G$ (or ease of current flow through the sample) of the liquid crystal cell. Thus, this peak describes a rise in conductance and shows that the crystals are more \\emph{susceptible} to align with the alternating electric field at this frequency. Ultimately, this is a plot of the samples susceptibility factor.\n",
      "\n",
      "Using the Debye dispersion model, we measure the height of this Goldstone mode peak, $\\Delta \\epsilon$, and determine the dielectric constant at that temperature. The reciprocal of this value is plotted against the temperature for each measurement, and the susceptibility critical exponent, $\\gamma$, is determined used a fit with the power law model:\n",
      "    \n",
      "\\begin{equation}\n",
      "\t(\\Delta \\epsilon)^{-1} = A |t|^{\\gamma}.\n",
      "\\end{equation}\n"
     ]
    },
    {
     "cell_type": "markdown",
     "metadata": {},
     "source": [
      "### What is Going on with the Liquid Crystal? ###\n",
      "\n",
      "<div class=\"center\"><img src=\"files/figures/angleSmC.jpg\" width=25%></div>\n",
      "\n",
      "\n",
      "Now that we know how to make the measurements, we take a moment to explain what exactly we are measuring. More specific, what is happening inside the liquid crystal cell? As described earlier, when a material is in the SmC phase, it tilts an angle $\\theta$ away from the perpendicular director $z$. While the average direction of all the molecules have the same director $n$, this director has the freedom to move anywhere on the tilt cone. Especially in an alternating electric field, the molecules will revolve back and forth to align with the field. In this experiment, we observe the response of the crystals to such a field by measuring the dielectric coefficient shown in the figure above. The imaginary piece $\\epsilon \"$ of this coefficient is the susceptibility of the crystals to revolve at the frequency of the alternating field. Any peaks visible on this graph describe the phenomenon when the crystals revolution rate is closest to matching the frequency of the field. This is known as the resonance frequency of the crystal. \n",
      "\n",
      "If the crystal is in the SmA phase, we expect the sample to have no polarization, because the $z$ and $n$ director are parallel. The illustration in the introduction section shows the alignment of the crystals with our glass slides. The crystals do not flip or align with any external electric field applied across the slides without polarization. Therefore, when observing the dielectric response of the crystal in this phase, we expect to see no resonance peak in the measurements. \n",
      "\n",
      "If the crystal is in the SmC phase, the crystals have a polarization from the tilt cone. As a field is applied across the slides, the polarization director aligns with this field and the molecules revolve accordingly. Therefore, these type of crystals typically have high dielectric permittivity in the SmC phase due to a collective relaxation response of every crystal in the system. This phenomena is known as the Goldstone mode (GM). As a result, we expect to see a resonance peak appear in the dielectric coefficient when sweeping over a range of frequencies. We repeat these measurements at many different temperatures to create a surface plot of the dielectric spectrum. On this surface, we look for a clear phase transition at the transition temperature for each sample we test."
     ]
    },
    {
     "cell_type": "code",
     "collapsed": false,
     "input": [],
     "language": "python",
     "metadata": {},
     "outputs": []
    }
   ],
   "metadata": {}
  }
 ]
}