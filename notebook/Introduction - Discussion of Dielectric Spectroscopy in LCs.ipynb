{
 "metadata": {
  "name": "Introduction - Discussion of Dielectric Spectroscopy in LCs"
 },
 "nbformat": 3,
 "nbformat_minor": 0,
 "worksheets": [
  {
   "cells": [
    {
     "cell_type": "markdown",
     "metadata": {},
     "source": [
      "# Introduction: Dielectric Spectroscopy of Liquid Crystals #\n",
      "\n",
      "## Abstract ##\n",
      "In this experiment, we use the method of dielectric spectroscopy with two De Vries liquid crystal materials, 8422[2F3] and TSiKN65, to determine the type of phase transition that occurs between the SmA-SmC phases and quantify their susceptibility in an external perturbation. In the smectic-C, we find resonance peaks which indicate an increase in the crystal's susceptibility to align with an alternating electric field. We fit our data to the Debye dispersion model and extract the relaxation strength of the crystal at different temperature. This data is used to make a Curie-Weiss plot for each sample, where the critical exponent $\\gamma$ is determined. Each material exhibits second order phase transitions ($\\gamma \\approx 1$) that can be modeled by a Landau free energy equation. This model quantifies the material's susceptibility with the constant value $\\alpha$. Smaller values of $|\\alpha |$ indicate higher susceptibility for the material to respond to external perturbations. We determine $\\alpha$ to be 5.255$^{-1}$K for the TSiKN65 compound and -1.60 K$^{-1}$for the 8422[2F3] compound."
     ]
    },
    {
     "cell_type": "markdown",
     "metadata": {},
     "source": [
      "## Introduction ##\n",
      "\n",
      "The most familiar states of matter are the solid, liquid, gas, and plasma phases. For many centuries, these were the only known states; however, in 1888 an Austrian botanical physiologist, Friedrich Reinitzer, discovered a second melting point between the solid and liquid phase in a cholesterol compound \\cite{phase_trans}. This intermediate, unique phase would later be known as the liquid crystalline phase. It has become an important concept in understanding of biological systems and development of electro-optical sciences. Such substances ``flow\" much like a liquid and maintain positional order like the crystalline phase. Today, the physics of these materials are used to study cellular bi-layer membranes within the human body, create fast-response digital displays, gauge temperature changes with high accuracy, and many other purposes. \n",
      "\n",
      "They exists due to the shape and polarization of the molecules. Liquid crystals (LC's) are treated as long rod-shaped molecules, fairly rigid along their long axises, and possess a strong dipole polarization. These two characteristics cause the crystals to inherit unique positional and orientational order not seen in liquids; yet they still flow much like a liquid, without the a rigid structure seen in solids. Also, there are sub-phases within liquid crystals that demonstrate different positional, orientational, and bond-orientational order. Three phases that are commonly recognized within these crystals are the nematic, smectic A (SmA), and smectic C (SmC) phases. "
     ]
    },
    {
     "cell_type": "markdown",
     "metadata": {},
     "source": [
      "<div class=\"center\"><img src=\"files/figures/nematic.jpg\" width=25%><img src=\"files/figures/smecticA.jpg\" width=27%><img src=\"files/figures/smecticC.jpg\" width=33%></div>\n"
     ]
    },
    {
     "cell_type": "markdown",
     "metadata": {},
     "source": [
      "#### Phases within the Liquid Crystal Phase ####\n",
      "\n",
      "In the nematic phase, the crystals do not possess any position order, only long-range directional order. Due to their rod-like shape, the long axis of all the crystals tend to align with one another, but their position may flow in any direction. Thus, their center of masses are randomly located throughout a sample. In the Figure above, the picture on the left illustrates a typical nematic phase. There is a common direction, along the director $n$, that the crystals point.  Notice, the molecules do not necessarily all point in the same direction. In fact, they may align in many different directions; however, the average of all the directors point in one direction. This director is a fundamental characteristic of all liquid crystals. \n",
      "\n",
      "\n",
      "The smectic phases are characterized by both orientational order and positional order. The position of each crystal is not distributed randomly; rather, they align into layers. Again, take a look at the figure above. The picture in the center illustrates the smectic A phase. In this phase, all the molecules axises align with a common director $z$ like the nematic phase, and their center of masses align with one another. As a result, the sample forms distinct layers stacked on top of one another, much like a bookshelf, and the director is pointed perpendicular to these shelves. \n",
      "\n",
      "The smectic C phase possesses similar characteristics to the smectic A phase. The molecules form layers on top of one another, and the molecules align along a similar director. However, this director is not perpendicular to the layers. Instead, a new director $n$ with a small tilt angle $\\theta$ is induced on all the molecules. This is shown on the right in the figure above. "
     ]
    },
    {
     "cell_type": "markdown",
     "metadata": {},
     "source": [
      "<style>\n",
      "    .center {text-align: center}\n",
      "</style>\n",
      "<div class=\"center\"><img src=\"files/figures/tiltcone.jpg\" width=20%></div>"
     ]
    },
    {
     "cell_type": "markdown",
     "metadata": {},
     "source": [
      "#### Tilt Cone, Polarization, and LC Cells ####\n",
      "\n",
      "When the molecules are in the SmC phase and experience such a tilt, they are able to revolve along a cone formed along the $z$ director (see Figure below). This characteristic induces a polarization on a sample of LC's. In the following experiment, we explore this polarization and how susceptible these crystals are to changes in electric fields. The direction of such a polarization <b>P</b> for liquid crystals is $\\hat{z} \\times \\hat{n}$. The figure below shows that the direction of <b>P</b> is into the page. As the molecules spins around the tilt cone, the polarization direction moves around the top of the cone like hands of a clock. If an external electric field is applied across the short axis of the liquid crystal parallel to the layers, the molecule will revolve until the polarization direction aligns with the field. For our experiments, we exploit this property by observing these materials between two conducting glass slides.\n",
      "\n",
      "Recall the bookshelf analogy from before. In our liquid crystal samples, the glass slides are the sides of the book shelf. The layers are the shelves, and the crystals are the books standing upright. If the crystal is in the SmA phase, the $\\hat{z}$ (perpendicular to the layers or shelves) and $\\hat{n}$ directors (parallel to the orientation of the books) are parallel to each other. The direction of polarization, by definition, is the cross product of these two directors; therefore, there is no polarization in the SmA phase (See Figure below). When the crystal melts into the SmC phase (the books lean on the shelf), the tilt induces a polarization. \n",
      "\n",
      "Our samples are built using two glass slides coated with indium-tin oxide for conducting electric charge at their surface. We add a separate coating of nylon material and run a brush over the surface of the slide. This scratches microscopic grooves onto the glass that causes the liquid crystal material to align between the slides. Micro-spacers are dropped onto the slide to create micrometer spacing between the two plates.  Before the liquid crystal material is applied, we use an Ocean Optics spectrometer to measure the thickness of the cells. Two wire leads are connected to the surface of the cells using conducting epoxy. These connections allow us to apply electric fields across the slides and polarize the material. "
     ]
    },
    {
     "cell_type": "markdown",
     "metadata": {},
     "source": [
      "<div class=\"center\"><img src=\"files/figures/combo.jpg\" width=25%><img src=\"files/figures/chiral.jpg\" width=17%></div?"
     ]
    },
    {
     "cell_type": "markdown",
     "metadata": {},
     "source": [
      "#### Ferroelectricity, Antiferroelectricity, and Chirality ####"
     ]
    },
    {
     "cell_type": "markdown",
     "metadata": {},
     "source": [
      "The principle of <b>ferroelectricity</b> is important property of some SmC liquid crystal phases. It is analogous with ferromagnetism, which is the permanent magnetization present in materials like iron (``ferro\" means iron). Ferroelectricity describes the phenomena when the bulk of a material has a permanent electric polarization without an external electric field, and all the molecules point in the same direction. This property can be reversed in the presence of an external field. The SmA phase of liquid crystals do not exhibit ferroelectric behavior. In SmC phase, the tilt of the molecules induces a polarization in each of the layers of the sample. If the layers all point in the same direction, the sample is ferroelectric. It is also possible for each layer to polarize in opposite directions, and the bulk to show zero net polarization (a phenomena known as <b>antiferroelectricity</b>). If layers' directors do not align or show any antiferroelectric symmetry, the system is neither ferroelectric or antiferroelectric. All of the samples used in this experiment are ferroelectric. \n",
      "\n",
      "Ferroelectricity brings the concept of symmetry to question. In several branches of science, the term <b>chirality</b> describes the characteristic of asymmetry. In liquid crystals, chirality can be used to describe individual molecules or a bulk system of LC's. If a bulk is not identical to its mirror image , the system is considered chiral \\cite{polarization}. If a molecule is not symmetric about its short or long axis, the molecules itself is considered chiral. Achiral systems show these kinds of symmetry. For example, a unique achiral phase is the helical structure, shown in in figure above. This type of SmC phase has no net polarization in the sample (antiferroelectric). When the layers are formed and an angle is induced in the SmC phase, each layer has a different polarization direction with an angle $\\phi$ in the azimuthal plane. Each layer's polarization angle is slightly shifted from the surrounding layers, forming a helix-twisted structure in the bulk sample. This phase is described as an achiral antiferroelectric SmC liquid crystal. Phases that demonstrate chiral structure are labeled with an asterisk (i.e. SmC*)."
     ]
    },
    {
     "cell_type": "markdown",
     "metadata": {},
     "source": [
      "#### De Vries Materials \n",
      "\n",
      "For our experiments, we use a special class of liquid crystal material known as De Vrie's LC's. These crystals are unique from other materials, because they do not exhibit any layer shrinkage between the SmA-SmC phase transition Recall, the SmA phase typically requires that all the crystals align along a common director that is perpendicular to it's layers. In the SmC phase, this common director tilts at an angle away from the horizontal, shortening the distance between layers. In the De Vries materials, there is no difference between the layer distances in the SmA and SmC phases. This lack of layer shrinkage is due to a unique property in their SmA phase. Unlike typical SmA LC's, De Vries materials actually experience a spontaneous tilt with random azimuthal angles in each layer. These angles cancel each other out, so the SmA phase still shows a net common director $z$ perpendicular to its layers, like other materials. When the crystals transition into the SmC phase, they maintain this tilt, but their directors align in a common direction with angle $\\theta$ from the $z$ director. Thus, no layer shrinkage occurs during the phase transition."
     ]
    },
    {
     "cell_type": "markdown",
     "metadata": {},
     "source": [
      "#### Universality Classes ####\n",
      "\n",
      "In this experiment, we seek to determine whether our liquid crystals fall into a particular universality class. Universality classes are groups of mathematical expressions that attempt to model the behavior of physical systems. Each expression contains the same set of \"critical exponents\": $\\alpha$ the heat capacity exponent, $\\beta$ the magnetic order parameter exponent, $\\gamma$ the susceptibility exponent, and $\\nu$ the correlation length. A physical material is considered part of a class when the it's properties align with the critical exponents of the model. This process of classification allows scientists to study complex, foreign materials more efficiently. If a material's behavior fits the universality class of a known substance or computer simulated system, a scientist can perform similar experiments on both. \n",
      "\n",
      "A few common universality classes are listed in the table below. In earlier experiments, the XY critical exponents seemed to accurately describe the classical behavior of liquid crystals; however, later experiments shows that around the SmC-SmA phase transition, the crystals behave similar to the mean field, Landau model. In this experiment, we determine the susceptibility exponent $\\gamma$ for our samples and compare them to the above models. In the SmC-SmA transition, we expect to see a critical exponent similar to the Landau model. "
     ]
    },
    {
     "cell_type": "markdown",
     "metadata": {},
     "source": [
      "| Class Name\u00a0\u00a0\u00a0\u00a0|\u00a0\u00a0$\\alpha$\u00a0 | \u00a0\u00a0$\\beta$\u00a0\u00a0|\u00a0\u00a0 $\\gamma$\u00a0\u00a0 |  $\\nu$\u00a0\u00a0\u00a0|\u00a0\u00a0 Dimension count  |\n",
      "|:--------:|:--------:|:--------:|:-------:|:--------:|:---------:|\n",
      "|XY Model\u00a0\u00a0\u00a0\u00a0|\u00a0\u00a0\u00a0-0.0146(8)\t|  0.3485(2) |\t\u00a01.3177(5)\t| 0.67155(27)\t|  3\u00a0\u00a0\u00a0|\n",
      "| 2d Ising Model\u00a0\u00a0\u00a0|\u00a0\u00a0\u00a00\u00a0\u00a0\u00a0\u00a0|\u00a0\u00a0\u00a0 1/8\u00a0\u00a0\u00a0\u00a0\u00a0|\u00a0\u00a0 7/4\u00a0\u00a0\u00a0\u00a0\u00a0|\u00a0 1\u00a0\u00a0\u00a0|\u00a0\u00a0\u00a0 2\u00a0\u00a0\u00a0\u00a0|\u00a0\n",
      "|\u00a0\u00a03d Ising Model\u00a0\u00a0\u00a0\u00a0|\u00a0\u00a0\u00a00.1096(5)\t|\u00a0 0.32653(10)\t| 1.2373(2)\t |  0.63012(16)\t| 3\u00a0\u00a0\u00a0|\n",
      "|\u00a0\u00a0\u00a0Mean Field (Landau) Model | 0\u00a0\u00a0\u00a0\u00a0|\u00a0 & 1/2\u00a0\u00a0\u00a0|\u00a0 1\u00a0\u00a0| 1/2\u00a0\u00a0|\u00a0\u00a02, 3 |\n"
     ]
    },
    {
     "cell_type": "code",
     "collapsed": false,
     "input": [],
     "language": "python",
     "metadata": {},
     "outputs": []
    }
   ],
   "metadata": {}
  }
 ]
}