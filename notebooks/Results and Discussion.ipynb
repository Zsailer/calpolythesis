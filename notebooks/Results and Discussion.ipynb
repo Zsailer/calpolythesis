{
 "metadata": {
  "name": "Results and Discussion"
 },
 "nbformat": 3,
 "nbformat_minor": 0,
 "worksheets": [
  {
   "cells": [
    {
     "cell_type": "markdown",
     "metadata": {},
     "source": [
      "<style>\n",
      "    .center {text-align: center}\n",
      "</style>\n",
      "# Results and Discussion"
     ]
    },
    {
     "cell_type": "markdown",
     "metadata": {},
     "source": [
      "| Sample  | SmA-SmC Transition ($^{\\circ}$C) | $m_{\\chi}$ | B | $\\gamma$ value | $\\alpha$ (K$^{-1}$)| $m_{P\\Theta}$|\n",
      "|:-----:|:-----:|:-----:|:-----:|:-----:|:-----:|:-----:|\n",
      "|   TSiNK65 | 26.3   | 0.014    |-0.20 | 0.99     |    5.26   | 185    |\n",
      "|    8422[2F3] | 65   | -0.0041  | 0.603 |  0.95  | -1.60    |   185   |"
     ]
    },
    {
     "cell_type": "markdown",
     "metadata": {},
     "source": [
      "For the TSiNK65 sample, we sweep the frequency from 100 Hz to $10^{6}$ Hz. These measurements are repeated for temperatures between $19^{\\circ}$C and $40^{\\circ}$C and the $\\Delta \\epsilon$ is determined from our fitted Debye-model. This value is used to make the Curie-Weiss plot. We use a linear fit function to determine the slope of this data $m_{\\chi}$. The values for this fit are shown in the table above. The first thing we notice is that the value for $\\gamma$ is near 1. This is our indication that our sample experienced a second order phase transition, which follows the mean-field universality class. We use these results to determine the value of $\\alpha$. In our experiment, we determine this value to be 5.255$^{-1}$K. "
     ]
    },
    {
     "cell_type": "markdown",
     "metadata": {},
     "source": [
      "The Curie-Weiss plot for 8422[2F3] sample is shown below. The frequencies are swept from 1kHz to $10^{6}$Hz, and the temperatures range from  $55^{\\circ}$C to $100^{\\circ}$C. We repeat the measurements and calculations to obtain the value of  $m_{\\chi}$. The values are shown in the table above. This sample also behaves as a second order phase transition with $\\gamma$ near 1. The unusual result from our experiment is that the value of $m_{\\chi}$ is negative, causing the value of $\\alpha$ to also be negative. Understanding this behavior requires more exploration beyond the scope of this experiment. We determine the value of $\\alpha$ to be -1.60 K$^{-1}$.\n",
      "\n",
      "The results from our experiment confirm our theory that the SmA-SmC transition is a second order phase transition and follows Landau free expansion behavior. The susceptibility coefficient $\\alpha$ proves to be smaller for these crystals than non-De Vries materials measured in previous experiments (i.e. \"Study of De Vries behavior of the smectic A and smectic C phase transition\"). As described earlier, a smaller coefficient implies that less energy is needed to align the material's polarization with the external field. This also implies that the restoring force for the layer shrinkage (or molecule tilt) is smaller than typical SmC liquid crystals. Because the De Vries materials do not experience layer shrinkage, it makes sense that this restoring force is small. Hence, De Vries materials will always have lower values of $\\alpha$. This is confirmed by our experiment. "
     ]
    },
    {
     "cell_type": "markdown",
     "metadata": {},
     "source": [
      "<div class=\"center\"><img src=\"files/Figures/susctsi.png\" width=38%><img src=\"files/Figures/susc8422.png\" width=38%></div>\n"
     ]
    },
    {
     "cell_type": "code",
     "collapsed": false,
     "input": [],
     "language": "python",
     "metadata": {},
     "outputs": []
    }
   ],
   "metadata": {}
  }
 ]
}