{
 "metadata": {
  "name": "Analysis II - Determining LC susceptibility in AC Field"
 },
 "nbformat": 3,
 "nbformat_minor": 0,
 "worksheets": [
  {
   "cells": [
    {
     "cell_type": "markdown",
     "metadata": {},
     "source": [
      "# Determining Universality Class #\n",
      "\n",
      "This file extracts the $\\Delta \\epsilon$ value from the fitted model I use on my data. The inverse of this value is plotted against the temperature for each spectrum at that given temperature. From this, we fit a quadratic formula to determine the value of the susceptibility critical exponent, $\\gamma$.\n",
      "\n",
      "The cell below defines a function used to extract the data. It returns the parameter values determined by our model and scipy's \"curve_fit\" function."
     ]
    },
    {
     "cell_type": "code",
     "collapsed": false,
     "input": [
      "%pylab inline\n",
      "from mpl_toolkits.mplot3d import Axes3D\n",
      "import scipy.optimize as spo\n",
      "\n",
      "def data_extract(filenames, guess, bool_to_guess, bool_to_print, bool_to_plot):\n",
      "    \n",
      "    files = [filenames[0],filenames[1]]\n",
      "    \n",
      "    test = np.loadtxt('Data03082013/'+files[0], dtype=float,delimiter='\\t')\n",
      "    #magnitude\n",
      "    m = test.T[0]\n",
      "    m = m[40:]\n",
      "    #frequency\n",
      "    f = test.T[1]\n",
      "    f = f[40:]\n",
      "    #angle projected into imaginery/real plane\n",
      "    a = test.T[4]\n",
      "    a = a[40:]\n",
      "    \n",
      "    test2 = np.loadtxt('Data03082013/'+files[1], dtype=float,delimiter='\\t')\n",
      "    m2 = test2.T[0]\n",
      "    f2 = test2.T[1]\n",
      "    a2 = test2.T[4]\n",
      "    \n",
      "    \"\"\" Combine the data into a 3D array \"\"\"\n",
      "    magn = np.concatenate((m,m2))\n",
      "    freq = np.concatenate((f,f2))\n",
      "    angl = np.concatenate((a,a2))\n",
      "    \n",
      "    \"\"\" Put data in terms of the dielectric constant \"\"\"\n",
      "    A = .01**2;\n",
      "    eps0 = 8.854187e-12;\n",
      "    d = 5e-6;\n",
      "    omega = 2*np.pi*freq;\n",
      "    \n",
      "    G = cos(angl)/(magn);\n",
      "    C = -sin(angl)/(magn);\n",
      "    \n",
      "    C0 = (A*eps0)/(d);\n",
      "    \n",
      "    \"\"\" e2 is the epsilon double primed or the imaginery part of the dielectric data\n",
      "        e1 is the epsilong primed or real part of the dielectric data \"\"\"\n",
      "    \n",
      "    e2 = G/(omega*C0);\n",
      "    e1 = C/(omega*C0);\n",
      "    \n",
      "    \"\"\" GUESSED VALUES for the fit of the primary peak in the dielectric data. \"\"\"\n",
      "    E_infinity = guess[0];\n",
      "    Delta_E = guess[1];\n",
      "    Relaxation_frequency = guess[2];\n",
      "    Beta = guess[3];\n",
      "    G_low_frequency = guess[4];\n",
      "    \n",
      "    \"\"\" GUESSSED VALUES for the fit of the secondary peak in dielectric data. \"\"\"\n",
      "    E_infinity2 = guess[5];\n",
      "    Delta_E2 = guess[6];\n",
      "    Relaxation_frequency2 = guess[7];\n",
      "    Beta2 = guess[8];\n",
      "    G_low_frequency2 = guess[9];\n",
      "    \n",
      "    \"\"\" Defining the data as x,y \"\"\"\n",
      "    x = freq;\n",
      "    y = e2;\n",
      "    \n",
      "    \"\"\" Model Function to fit our data \"\"\" \n",
      "    def func(x, Einf,delE,relaxFreq,beta,g,Einf2,delE2,relaxFreq2,beta2,g2):\n",
      "        z = (Einf + (delE/(1 + (1j*(x/relaxFreq))**(beta))) + g + Einf2 + (delE2/(1 + (1j*(x/relaxFreq2))**(beta2))) + g2)\n",
      "        return -(z.imag)\n",
      "    \n",
      "    dummy = func(x,E_infinity, Delta_E, Relaxation_frequency, Beta, G_low_frequency, E_infinity2, Delta_E2, Relaxation_frequency2, Beta2, G_low_frequency2)\n",
      "    \n",
      "    if bool_to_guess == True:\n",
      "        plt.figure(1)\n",
      "        semilogx(freq,dummy,'-r')\n",
      "        semilogx(freq,e2,'.')\n",
      "        xlabel('Frequency')\n",
      "        ylabel('$\\epsilon$')\n",
      "        title('Dielectric Spectrum')\n",
      "        grid()\n",
      "        \n",
      "    popt, pcov = spo.curve_fit(func,x,y,[E_infinity, Delta_E, Relaxation_frequency, Beta, G_low_frequency, E_infinity2, Delta_E2, Relaxation_frequency2, Beta2, G_low_frequency2])\n",
      "        \n",
      "    fittedmodel = func(x,popt[0],popt[1],popt[2],popt[3],popt[4],popt[5],popt[6],popt[7],popt[8],popt[9])\n",
      "    \n",
      "    if bool_to_print == True:\n",
      "        def fit_results(param,values):\n",
      "            for i in range(0,10,1):\n",
      "                print param[i] + str(values[i])\n",
      "            \n",
      "        \"\"\" Print out the values of the fit \"\"\"\n",
      "        params = [\"\\nRESULTS FOR PRIMARY PEAK: \\n\\nE_infinity: \", \"Delta_E: \", \"Relaxation_frequency: \", \"Beta: \", \"G_low_frequency: \",\n",
      "                  \"\\nRESULTS FOR SECONDARY PEAK: \\n\\nE_infinity: \", \"Delta_E: \", \"Relaxation_frequency: \", \"Beta: \", \"G_low_frequency: \"];\n",
      "        fit_results(params,popt)\n",
      "        \n",
      "    if bool_to_plot == True:\n",
      "        \"\"\" Plot the fitted model \"\"\"\n",
      "        plt.figure(2)\n",
      "        semilogx(freq,e2,'.')\n",
      "        semilogx(freq,fittedmodel,'r')\n",
      "        xlabel('Frequency')\n",
      "        ylabel('$\\epsilon$')\n",
      "        title('Dielectric Spectrum')\n",
      "        grid()\n",
      "\n",
      "    return popt, fittedmodel"
     ],
     "language": "python",
     "metadata": {},
     "outputs": [
      {
       "output_type": "stream",
       "stream": "stdout",
       "text": [
        "\n",
        "Welcome to pylab, a matplotlib-based Python environment [backend: module://IPython.kernel.zmq.pylab.backend_inline].\n",
        "For more information, type 'help(pylab)'.\n"
       ]
      }
     ],
     "prompt_number": 43
    },
    {
     "cell_type": "markdown",
     "metadata": {},
     "source": [
      "Call the function above on each spectrum and return the fit values."
     ]
    },
    {
     "cell_type": "code",
     "collapsed": false,
     "input": [
      "\"\"\" GUESSED VALUES for the fit of the primary peak in the dielectric data. \"\"\"\n",
      "E_infinity = 0;\n",
      "Delta_E = 15;\n",
      "Relaxation_frequency = 2500;\n",
      "Beta = .2;\n",
      "G_low_frequency = 0;\n",
      "\n",
      "\"\"\" GUESSSED VALUES for the fit of the secondary peak in dielectric data. \"\"\"\n",
      "E_infinity2 = 0;\n",
      "Delta_E2 = 10;\n",
      "Relaxation_frequency2 = 150000;\n",
      "Beta2 = .9;\n",
      "G_low_frequency2 = 0;\n",
      "    \n",
      "guess = [E_infinity, Delta_E, Relaxation_frequency, Beta, G_low_frequency, E_infinity2, Delta_E2, Relaxation_frequency2, Beta2, G_low_frequency2]\n",
      "\n",
      "popt, fittedmodel = data_extract(['test39','test40'], guess, False, True, True)"
     ],
     "language": "python",
     "metadata": {},
     "outputs": [
      {
       "output_type": "stream",
       "stream": "stdout",
       "text": [
        "\n",
        "RESULTS FOR PRIMARY PEAK: \n",
        "\n",
        "E_infinity: 0.0\n",
        "Delta_E: 16.8731066515\n",
        "Relaxation_frequency: 840.297526282\n",
        "Beta: 0.83469173728\n",
        "G_low_frequency: 0.0\n",
        "\n",
        "RESULTS FOR SECONDARY PEAK: \n",
        "\n",
        "E_infinity: 0.0\n",
        "Delta_E: 10.5954511824\n",
        "Relaxation_frequency: 156203.589418\n",
        "Beta: 0.904113111308\n",
        "G_low_frequency: 0.0\n"
       ]
      },
      {
       "output_type": "display_data",
       "png": "[encoded data removed]",
       "text": [
        "<matplotlib.figure.Figure at 0x17892b0>"
       ]
      }
     ],
     "prompt_number": 49
    },
    {
     "cell_type": "code",
     "collapsed": false,
     "input": [],
     "language": "python",
     "metadata": {},
     "outputs": []
    }
   ],
   "metadata": {}
  }
 ]
}