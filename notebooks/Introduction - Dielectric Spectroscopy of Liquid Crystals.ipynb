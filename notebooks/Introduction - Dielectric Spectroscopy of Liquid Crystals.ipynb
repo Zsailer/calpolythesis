{
 "metadata": {
  "name": "Introduction - Dielectric Spectroscopy of Liquid Crystals"
 },
 "nbformat": 3,
 "nbformat_minor": 0,
 "worksheets": [
  {
   "cells": [
    {
     "cell_type": "markdown",
     "metadata": {},
     "source": [
      "# Introduction: Dielectric Spectroscopy of Liquid Crystals #\n",
      "\n",
      "## Abstract ##\n",
      "In this experiment, we make dielectric spectroscopy measurements on the 8422[2F3] and the TSiKN65 liquid crystal compounds and observe the response of their dielectric coefficient in the isotropic, smectic-A, and smectic-C phases. In the smectic-C and isotropic phases, we found resonance peaks describing an increase in the crystal's susceptibility to align with an alternating electric field. We fit our data to the Debye dispersion model and extract the relaxation strength of the crystal at different temperature. The critical exponent $\\gamma$ for the crystals susceptibility is determined by fitting the power law model to the reciprocal of the relaxation strengths. We determined $\\gamma$ to be \\emph{blank} for the TSiKN65 compound and \\emph{blank} for the 8422[2F3] compound.\n"
     ]
    },
    {
     "cell_type": "markdown",
     "metadata": {},
     "source": [
      "## Introduction ##\n",
      "\n",
      "The most familiar states of matter are the solid, liquid, gas, and plasma phases. For many centuries, these were the only known states; however, in 1888 an Austrian botanical physiologist, Friedrich Reinitzer, discovered a second melting point between the solid and liquid phase in a cholesterol compound. This intermediate, unique phase would later be known as the liquid crystalline phase. It has become an important concept in understanding of biological systems and development of electro-optical sciences. Such substances ``flow\" much like a liquid and maintain positional order like the crystalline phase. Today, the physics of these materials are used to study cellular membranes within the human body, create fast-response digital displays, and gauge temperature changes with high accuracy. \n",
      "\n",
      "They exists due to the shape and polarization of the molecules. Liquid crystals (LC's) are typically long rod-shaped molecules, fairly rigid along their long axises, and possess a strong dipole polarization. These two characteristics cause the crystals to inherit unique positional and orientational order not seen in liquids; yet they still flow much like a liquid, without the a rigid structure seen in solids. Also, there are sub-phases within the LC phase that demonstrates different positional, orientational, and bond-orientational order. Three phases that are commonly mentioned within these crystals are the nematic, smectic A (SmA), and smectic C (SmC) phases. "
     ]
    },
    {
     "cell_type": "markdown",
     "metadata": {},
     "source": [
      "<!DOCTYPE HTML>\n",
      "<img src=\"files/figures/nematic.jpg\" width=20%><img src=\"files/figures/smecticA.jpg\" width=20%><img src=\"files/figures/smecticC.jpg\" width=20%>\n"
     ]
    },
    {
     "cell_type": "markdown",
     "metadata": {},
     "source": [
      "#### Phases within the Liquid Crystal Phase ####\n",
      "\n",
      "In the nematic phase, the crystals do not possess any position order, only long-range directional order. Due to their rod-like shape, the long axis of all the crystals tend to align with one another, but their position may flow in any direction. Thus, their center of masses are randomly located throughout a sample. In Figure \\ref{LCdiagram}, the picture on the left illustrates a typical nematic phase. There is a common direction, along the director $n$, that the crystals point.  Notice, the molecules do not necessarily all point in the same direction. In fact, they may align in many different directions; however, the average of all the directors point in one direction. This director is a fundamental characteristic of all liquid crystals. \n",
      "\n",
      "\n",
      "The smectic phases are characterized by both orientational order and \\emph{positional order}. The position of each crystal is not distributed randomly; rather, they align into layers. Again, take a look at Figure \\ref{LCdiagram}. The picture in the center illustrates the smectic A phase. In this phase, all the molecules axises align with a common director $z$ like the nematic phase, and their center of masses align with one another. As a result, the sample forms distinct layers stacked on top of one another, much like a bookshelf, and the director is pointed perpendicular to these shelves. \n",
      "\n",
      "The smectic C phase possesses similar characteristics to the smectic A phase. The molecules form layers on top of one another, and the molecules align along a similar director. However, this director is not perpendicular to the layers. Instead, a new director $n$ with a small tilt angle $\\theta$ is induced on all the molecules. This is shown on the right in Figure \\ref{LCdiagram}. "
     ]
    },
    {
     "cell_type": "code",
     "collapsed": false,
     "input": [],
     "language": "python",
     "metadata": {},
     "outputs": []
    }
   ],
   "metadata": {}
  }
 ]
}