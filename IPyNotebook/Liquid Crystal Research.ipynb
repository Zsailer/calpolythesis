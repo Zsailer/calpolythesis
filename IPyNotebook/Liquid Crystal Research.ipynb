{
 "metadata": {
  "name": "Liquid Crystal Research"
 },
 "nbformat": 3,
 "nbformat_minor": 0,
 "worksheets": [
  {
   "cells": [
    {
     "cell_type": "heading",
     "level": 1,
     "metadata": {},
     "source": [
      "Analyzing Liquid Crystal Data"
     ]
    },
    {
     "cell_type": "markdown",
     "metadata": {},
     "source": [
      "Run the cell to load in two programs which process the HP 4192A LF impedance analyzer data recorded by the Labview Program, \"Impendance Analyzer.\" The files are exported as \".txt\" files, and the \".py\" programs import the data into the IPython notebook. Using matplotlib and numpy modules, the data is parsed and filtered to create spectras for each temperature run. The second program plots all the data as a 3D surface\n",
      "\n",
      "Each spectra is a record of the dielectric constant, $\\epsilon$'', against the frequency (in Hertz). The surface plot is this value at all temperatures and frequencies.\n",
      "\n",
      "The impedance analyzer measures the magnitude of the complex impedance and the "
     ]
    },
    {
     "cell_type": "code",
     "collapsed": false,
     "input": [
      "%pylab inline\n",
      "from mpl_toolkits.mplot3d import Axes3D\n",
      "%load surf_data.py\n",
      "%load spectra_data.py\n"
     ],
     "language": "python",
     "metadata": {},
     "outputs": [
      {
       "output_type": "stream",
       "stream": "stdout",
       "text": [
        "\n",
        "Welcome to pylab, a matplotlib-based Python environment [backend: module://IPython.kernel.zmq.pylab.backend_inline].\n",
        "For more information, type 'help(pylab)'.\n"
       ]
      }
     ],
     "prompt_number": 9
    }
   ],
   "metadata": {}
  }
 ]
}